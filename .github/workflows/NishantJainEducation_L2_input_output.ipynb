{
  "nbformat": 4,
  "nbformat_minor": 0,
  "metadata": {
    "colab": {
      "provenance": []
    },
    "kernelspec": {
      "name": "python3",
      "display_name": "Python 3"
    },
    "language_info": {
      "name": "python"
    }
  },
  "cells": [
    {
      "cell_type": "markdown",
      "source": [
        "# **1. Function: input()**\n",
        "**1.1** To take input from the user use function **input**. Data entered by the user is returned as char/string data type."
      ],
      "metadata": {
        "id": "fFl5kEg5-wcI"
      }
    },
    {
      "cell_type": "code",
      "source": [
        "# value assigned to variable \"a\" will always be in character/string data type \n",
        "# even if the number is entered. \n",
        "a = input('Enter any number:')"
      ],
      "metadata": {
        "colab": {
          "base_uri": "https://localhost:8080/"
        },
        "id": "wmwOunqc5aM0",
        "outputId": "623adfd4-ed74-45d6-990c-f207d54e7fe9"
      },
      "execution_count": null,
      "outputs": [
        {
          "name": "stdout",
          "output_type": "stream",
          "text": [
            "Enter any number:5\n"
          ]
        }
      ]
    },
    {
      "cell_type": "code",
      "source": [
        "a"
      ],
      "metadata": {
        "id": "Tp9lKa_ynzR6"
      },
      "execution_count": null,
      "outputs": []
    },
    {
      "cell_type": "markdown",
      "source": [
        "**1.2 Type conversion functions** like int(), float(), etc need to be used to get output in particular data type."
      ],
      "metadata": {
        "id": "pgcUX_6X_I-S"
      }
    },
    {
      "cell_type": "code",
      "source": [
        "# value assigned to variable \"b\" is a float that is converted from character \n",
        "# data type to float data type\n",
        "b = float(input('Enter any number:'))"
      ],
      "metadata": {
        "id": "6Ot_n0Vgi6MS",
        "colab": {
          "base_uri": "https://localhost:8080/"
        },
        "outputId": "8034b949-5b09-4c5d-9ebf-dd7ae8c31bb7"
      },
      "execution_count": null,
      "outputs": [
        {
          "name": "stdout",
          "output_type": "stream",
          "text": [
            "Enter any number:5\n"
          ]
        }
      ]
    },
    {
      "cell_type": "code",
      "source": [
        "b"
      ],
      "metadata": {
        "colab": {
          "base_uri": "https://localhost:8080/"
        },
        "id": "Lp_a2ieEdU73",
        "outputId": "7079296e-197a-464e-eab2-035c8002b264"
      },
      "execution_count": null,
      "outputs": [
        {
          "output_type": "execute_result",
          "data": {
            "text/plain": [
              "5.2"
            ]
          },
          "metadata": {},
          "execution_count": 42
        }
      ]
    },
    {
      "cell_type": "code",
      "source": [
        "# value assigned to variable \"c\" is an integer that is converted from character\n",
        "#  data type to integer data type\n",
        "c = int(input('Enter any number:'))"
      ],
      "metadata": {
        "colab": {
          "base_uri": "https://localhost:8080/"
        },
        "id": "bTWK3TDeQfdC",
        "outputId": "968f0fd5-ac45-4d53-af00-e5e4c3a7b219"
      },
      "execution_count": null,
      "outputs": [
        {
          "name": "stdout",
          "output_type": "stream",
          "text": [
            "Enter any number:5\n"
          ]
        }
      ]
    },
    {
      "cell_type": "markdown",
      "source": [
        "# **Coercion:**\n",
        "It is an Implicit (automatic) conversion of an operand from one data type to another. \n",
        "\n",
        "It is done if the operand is converted safely without any loss of information.\n",
        "\n",
        "Eg. integer can be converted into float without any loss. EG. 4 ⇒ 4.0\n",
        "\n",
        "But float value if converted to integer may end with information loss. Eg. 4.5 ⇒ 4\n",
        "\n",
        "# **Type Conversion:**\n",
        "It is an explicit conversion of an operand from one data type to another. \n",
        "\n",
        "It is done programmatically and may involve loss of information.\n",
        "\n",
        "Built-in type conversion function available in python are: int() and \n",
        "float()"
      ],
      "metadata": {
        "id": "XEzqv5-rR37E"
      }
    },
    {
      "cell_type": "code",
      "source": [
        "# float converted to integer\n",
        "int(4.5)"
      ],
      "metadata": {
        "colab": {
          "base_uri": "https://localhost:8080/"
        },
        "id": "_ZqKYouMSPLT",
        "outputId": "d2c39fe5-cf7f-4ee4-b40b-330010b41a38"
      },
      "execution_count": null,
      "outputs": [
        {
          "output_type": "execute_result",
          "data": {
            "text/plain": [
              "4"
            ]
          },
          "metadata": {},
          "execution_count": 7
        }
      ]
    },
    {
      "cell_type": "code",
      "source": [
        "# character converted to integer\n",
        "int('4')"
      ],
      "metadata": {
        "colab": {
          "base_uri": "https://localhost:8080/"
        },
        "id": "w6NszeaMSSBn",
        "outputId": "b8e65e5c-edcb-45e7-a13a-26f41eaea109"
      },
      "execution_count": null,
      "outputs": [
        {
          "output_type": "execute_result",
          "data": {
            "text/plain": [
              "4"
            ]
          },
          "metadata": {},
          "execution_count": 8
        }
      ]
    },
    {
      "cell_type": "code",
      "source": [
        "# character that represents real number cannot be converted to integer\n",
        "int('4.5')"
      ],
      "metadata": {
        "colab": {
          "base_uri": "https://localhost:8080/",
          "height": 183
        },
        "id": "GP6NXY9YSVJk",
        "outputId": "2f547f3d-7225-458a-bff3-61e36fb567c8"
      },
      "execution_count": null,
      "outputs": [
        {
          "output_type": "error",
          "ename": "ValueError",
          "evalue": "ignored",
          "traceback": [
            "\u001b[0;31m---------------------------------------------------------------------------\u001b[0m",
            "\u001b[0;31mValueError\u001b[0m                                Traceback (most recent call last)",
            "\u001b[0;32m<ipython-input-9-7f87cc7e2ff4>\u001b[0m in \u001b[0;36m<module>\u001b[0;34m()\u001b[0m\n\u001b[1;32m      1\u001b[0m \u001b[0;31m# character that represents real number cannot be converted to integer\u001b[0m\u001b[0;34m\u001b[0m\u001b[0;34m\u001b[0m\u001b[0;34m\u001b[0m\u001b[0m\n\u001b[0;32m----> 2\u001b[0;31m \u001b[0mint\u001b[0m\u001b[0;34m(\u001b[0m\u001b[0;34m'4.5'\u001b[0m\u001b[0;34m)\u001b[0m\u001b[0;34m\u001b[0m\u001b[0;34m\u001b[0m\u001b[0m\n\u001b[0m",
            "\u001b[0;31mValueError\u001b[0m: invalid literal for int() with base 10: '4.5'"
          ]
        }
      ]
    },
    {
      "cell_type": "code",
      "source": [
        "# character converted to float\n",
        "float('4.5')"
      ],
      "metadata": {
        "colab": {
          "base_uri": "https://localhost:8080/"
        },
        "id": "BzSJmFXDS2Jq",
        "outputId": "43a5de79-2968-4602-8481-9153b1538aad"
      },
      "execution_count": null,
      "outputs": [
        {
          "output_type": "execute_result",
          "data": {
            "text/plain": [
              "4.5"
            ]
          },
          "metadata": {},
          "execution_count": 100
        }
      ]
    },
    {
      "cell_type": "markdown",
      "source": [
        "# **2. To Display Output**\n",
        "**2.1 Function: print()** : It is used to display the result to the user."
      ],
      "metadata": {
        "id": "ITtIF_dlDtyQ"
      }
    },
    {
      "cell_type": "code",
      "source": [
        "print('The result is')"
      ],
      "metadata": {
        "colab": {
          "base_uri": "https://localhost:8080/"
        },
        "id": "mNZVr4GdAoP6",
        "outputId": "206cb1a0-eea5-425c-b3eb-b9fc21650b37"
      },
      "execution_count": null,
      "outputs": [
        {
          "output_type": "stream",
          "name": "stdout",
          "text": [
            "The result is\n"
          ]
        }
      ]
    },
    {
      "cell_type": "code",
      "source": [
        "print('The result is',a)\n",
        "print('The result is',b)"
      ],
      "metadata": {
        "colab": {
          "base_uri": "https://localhost:8080/"
        },
        "id": "DMwi8daIAr-4",
        "outputId": "3547b5a7-0526-47c1-c95c-c40cb4962e82"
      },
      "execution_count": null,
      "outputs": [
        {
          "output_type": "stream",
          "name": "stdout",
          "text": [
            "The result is 5\n",
            "The result is 5.2\n"
          ]
        }
      ]
    },
    {
      "cell_type": "code",
      "source": [
        "# To display the value of variables a and b in between the text. \n",
        "print(\"Hello %s to the %f \" %(a,b))"
      ],
      "metadata": {
        "colab": {
          "base_uri": "https://localhost:8080/"
        },
        "id": "PX5ZVrhPrSBZ",
        "outputId": "957929ee-0e03-4f57-9070-1e34d0c46c00"
      },
      "execution_count": null,
      "outputs": [
        {
          "output_type": "stream",
          "name": "stdout",
          "text": [
            "Hello 5 to the 5.000000 \n"
          ]
        }
      ]
    },
    {
      "cell_type": "code",
      "source": [
        "# Another way to display the value of variables a and b in between the text. \n",
        "#Sequence of the variables mentioned will be given a index value starting from 0\n",
        "# This number can be mentioned inside the curly bracket and accordinly variable \n",
        "# values will be displayed\n",
        "print(\"Hello {0} to the {1} \" )"
      ],
      "metadata": {
        "colab": {
          "base_uri": "https://localhost:8080/"
        },
        "id": "DvAmiBpQzjwB",
        "outputId": "7e0a0c54-0b9a-4a0b-c4a6-471c1b2b63a9"
      },
      "execution_count": null,
      "outputs": [
        {
          "output_type": "stream",
          "name": "stdout",
          "text": [
            "Hello {0} to the {1} \n"
          ]
        }
      ]
    },
    {
      "cell_type": "code",
      "source": [
        "# Sequence of the variables can be changed by mentioning the number inside the \n",
        "# curly bracket\n",
        "print(\"Hello {1} to the {0} \" .format(a,b))"
      ],
      "metadata": {
        "colab": {
          "base_uri": "https://localhost:8080/"
        },
        "id": "OWJ8mHwqzt2n",
        "outputId": "68d4835a-bbc7-47ec-e49f-4e35e71319b5"
      },
      "execution_count": null,
      "outputs": [
        {
          "output_type": "stream",
          "name": "stdout",
          "text": [
            "Hello 5.2 to the 5 \n"
          ]
        }
      ]
    },
    {
      "cell_type": "code",
      "source": [
        "# Text are displayed on two different lines by default\n",
        "print(\"nishant\")\n",
        "print(\"jain\")"
      ],
      "metadata": {
        "colab": {
          "base_uri": "https://localhost:8080/"
        },
        "id": "z2dbHVoQhyWY",
        "outputId": "9d3b1565-f894-45a8-c8ad-7089da2de435"
      },
      "execution_count": null,
      "outputs": [
        {
          "output_type": "stream",
          "name": "stdout",
          "text": [
            "nishant\n",
            "jain\n"
          ]
        }
      ]
    },
    {
      "cell_type": "code",
      "source": [
        "# To display text on same lines\n",
        "print(\"nishant\", end =\" \")\n",
        "print(\"jain\")"
      ],
      "metadata": {
        "colab": {
          "base_uri": "https://localhost:8080/"
        },
        "id": "OD_BK0Bhhv_B",
        "outputId": "eed0f3a3-0c09-4346-ba67-c58b04ba217f"
      },
      "execution_count": null,
      "outputs": [
        {
          "output_type": "stream",
          "name": "stdout",
          "text": [
            "nishant jain\n"
          ]
        }
      ]
    },
    {
      "cell_type": "code",
      "source": [
        "# To display text on same lines separated by underscores\n",
        "print(\"nishant\", end =\"_____\")\n",
        "print(\"jain\")"
      ],
      "metadata": {
        "colab": {
          "base_uri": "https://localhost:8080/"
        },
        "id": "V_EBZ1_RiGFf",
        "outputId": "3384bcae-7c20-4b01-ede4-2f440e437090"
      },
      "execution_count": null,
      "outputs": [
        {
          "output_type": "stream",
          "name": "stdout",
          "text": [
            "nishant_____jain\n"
          ]
        }
      ]
    },
    {
      "cell_type": "markdown",
      "source": [
        "**2.2 Function format()** \n",
        "\n",
        "**Syntax:    \t\tformat(value, format_specifier)**\n",
        "\n",
        "It can be used to format the output as per the requirement and to produce a numeric string version of the value \n",
        "\n",
        "containing a specific number of decimal places.\n",
        "\n",
        "**2.2.1 Example to display integer and float numbers:**"
      ],
      "metadata": {
        "id": "yAmMRl8Ps4qR"
      }
    },
    {
      "cell_type": "code",
      "source": [
        "# Displays value in the form of string upto 3 decimal places\n",
        "format(11/4,'.3f')"
      ],
      "metadata": {
        "colab": {
          "base_uri": "https://localhost:8080/",
          "height": 36
        },
        "id": "B5JK1KFVo-Po",
        "outputId": "8df35f6d-3a79-49dd-954b-1d8812577fe7"
      },
      "execution_count": null,
      "outputs": [
        {
          "output_type": "execute_result",
          "data": {
            "text/plain": [
              "'2.750'"
            ],
            "application/vnd.google.colaboratory.intrinsic+json": {
              "type": "string"
            }
          },
          "metadata": {},
          "execution_count": 46
        }
      ]
    },
    {
      "cell_type": "code",
      "source": [
        "# Displays value in the form of string upto 3 decimal places using space for \n",
        "# total of 9 characters\n",
        "# Since five character space is used by 2.750, remaining 4 spaces are represted \n",
        "# by blank spaces on left side\n",
        "print(format(11/4,'9.3f'))"
      ],
      "metadata": {
        "colab": {
          "base_uri": "https://localhost:8080/"
        },
        "id": "nxq2be_5pOsx",
        "outputId": "924b492e-0a00-45c9-f42a-7584dccef43b"
      },
      "execution_count": null,
      "outputs": [
        {
          "output_type": "stream",
          "name": "stdout",
          "text": [
            "    2.750\n"
          ]
        }
      ]
    },
    {
      "cell_type": "code",
      "source": [
        "# Displays output in the form of exponential with accuracy upto 3 decimal places\n",
        "format(2.01234e100,'0.3e')"
      ],
      "metadata": {
        "colab": {
          "base_uri": "https://localhost:8080/",
          "height": 36
        },
        "id": "_nu0z0lWp0UH",
        "outputId": "ddd76747-81ce-4f05-d23a-8c4a30932873"
      },
      "execution_count": 12,
      "outputs": [
        {
          "output_type": "execute_result",
          "data": {
            "text/plain": [
              "'2.012e+100'"
            ],
            "application/vnd.google.colaboratory.intrinsic+json": {
              "type": "string"
            }
          },
          "metadata": {},
          "execution_count": 12
        }
      ]
    },
    {
      "cell_type": "code",
      "source": [
        "# Displays number with comma at proper place and with accuracy upto 3 decimal \n",
        "# places\n",
        "format(12345.23,',.3f')"
      ],
      "metadata": {
        "colab": {
          "base_uri": "https://localhost:8080/",
          "height": 36
        },
        "id": "WxenwAKMqK3A",
        "outputId": "100ec3df-6d4b-4981-da88-9ca9d8e07bd5"
      },
      "execution_count": 9,
      "outputs": [
        {
          "output_type": "execute_result",
          "data": {
            "text/plain": [
              "'12,345.230'"
            ],
            "application/vnd.google.colaboratory.intrinsic+json": {
              "type": "string"
            }
          },
          "metadata": {},
          "execution_count": 9
        }
      ]
    },
    {
      "cell_type": "code",
      "source": [
        "# formal function can be used along with print function as given below:\n",
        "print('The result is',format(b,'16.5f'))"
      ],
      "metadata": {
        "id": "qLwa9xNhA1VV"
      },
      "execution_count": null,
      "outputs": []
    },
    {
      "cell_type": "markdown",
      "source": [
        "**2.2.2 Example to display string:**"
      ],
      "metadata": {
        "id": "ZBRVYDZRtKNT"
      }
    },
    {
      "cell_type": "code",
      "source": [
        "# It displays Hello in left justified format in a field width of 20 characters.\n",
        "format('Hello','<20')"
      ],
      "metadata": {
        "colab": {
          "base_uri": "https://localhost:8080/",
          "height": 36
        },
        "id": "k_duOPo81B54",
        "outputId": "0b5a8333-dbd0-4c86-80a3-521160f57a37"
      },
      "execution_count": null,
      "outputs": [
        {
          "output_type": "execute_result",
          "data": {
            "text/plain": [
              "'Hello               '"
            ],
            "application/vnd.google.colaboratory.intrinsic+json": {
              "type": "string"
            }
          },
          "metadata": {},
          "execution_count": 59
        }
      ]
    },
    {
      "cell_type": "code",
      "source": [
        "# It displays Hello in Rught justified format in a field width of 20 characters.\n",
        "format('Hello','>20')"
      ],
      "metadata": {
        "colab": {
          "base_uri": "https://localhost:8080/",
          "height": 36
        },
        "id": "3gBsh4_b1MCn",
        "outputId": "10b642e1-8451-4c9e-9a65-e8261f91c046"
      },
      "execution_count": null,
      "outputs": [
        {
          "output_type": "execute_result",
          "data": {
            "text/plain": [
              "'               Hello'"
            ],
            "application/vnd.google.colaboratory.intrinsic+json": {
              "type": "string"
            }
          },
          "metadata": {},
          "execution_count": 61
        }
      ]
    },
    {
      "cell_type": "code",
      "source": [
        "# It displays Hello in center aligned format in a field width of 20 characters.\n",
        "format('Hello','^20')"
      ],
      "metadata": {
        "colab": {
          "base_uri": "https://localhost:8080/",
          "height": 36
        },
        "id": "iMfWLsFG1WVO",
        "outputId": "5366fd2a-f789-432e-91b5-63e4c6c8799d"
      },
      "execution_count": null,
      "outputs": [
        {
          "output_type": "execute_result",
          "data": {
            "text/plain": [
              "'       Hello        '"
            ],
            "application/vnd.google.colaboratory.intrinsic+json": {
              "type": "string"
            }
          },
          "metadata": {},
          "execution_count": 62
        }
      ]
    },
    {
      "cell_type": "code",
      "source": [
        "# creates string of 10 blank characters.\n",
        "format(' ','10')"
      ],
      "metadata": {
        "colab": {
          "base_uri": "https://localhost:8080/",
          "height": 36
        },
        "id": "PCKF6Heu1fq3",
        "outputId": "ce9f3bd9-3c6c-4003-bef2-673bc0e3dcd5"
      },
      "execution_count": null,
      "outputs": [
        {
          "output_type": "execute_result",
          "data": {
            "text/plain": [
              "'          '"
            ],
            "application/vnd.google.colaboratory.intrinsic+json": {
              "type": "string"
            }
          },
          "metadata": {},
          "execution_count": 63
        }
      ]
    },
    {
      "cell_type": "code",
      "source": [
        "# creates string with a as first character followed by 9 blank char.\n",
        "format('a','10')"
      ],
      "metadata": {
        "colab": {
          "base_uri": "https://localhost:8080/",
          "height": 36
        },
        "id": "zsyP1phA1swy",
        "outputId": "bb857298-267d-4275-f5fe-883bc9c7a410"
      },
      "execution_count": null,
      "outputs": [
        {
          "output_type": "execute_result",
          "data": {
            "text/plain": [
              "'a         '"
            ],
            "application/vnd.google.colaboratory.intrinsic+json": {
              "type": "string"
            }
          },
          "metadata": {},
          "execution_count": 65
        }
      ]
    },
    {
      "cell_type": "code",
      "source": [
        "# creates string with 9 a’s followed by 1 blank.\n",
        "format(' ','a>10')"
      ],
      "metadata": {
        "colab": {
          "base_uri": "https://localhost:8080/",
          "height": 36
        },
        "id": "ogvzvqK818__",
        "outputId": "44fa2120-b1c2-4902-b8c5-8c1d36d2b894"
      },
      "execution_count": null,
      "outputs": [
        {
          "output_type": "execute_result",
          "data": {
            "text/plain": [
              "'aaaaaaaaa '"
            ],
            "application/vnd.google.colaboratory.intrinsic+json": {
              "type": "string"
            }
          },
          "metadata": {},
          "execution_count": 68
        }
      ]
    },
    {
      "cell_type": "code",
      "source": [
        "# creates string with 1 blank followed by 9 a’s.\n",
        "format(' ','a<10')"
      ],
      "metadata": {
        "colab": {
          "base_uri": "https://localhost:8080/",
          "height": 36
        },
        "id": "iwDt8CEv1-FX",
        "outputId": "a97e260c-a937-4465-8fb0-fabba2d59f27"
      },
      "execution_count": null,
      "outputs": [
        {
          "output_type": "execute_result",
          "data": {
            "text/plain": [
              "' aaaaaaaaa'"
            ],
            "application/vnd.google.colaboratory.intrinsic+json": {
              "type": "string"
            }
          },
          "metadata": {},
          "execution_count": 69
        }
      ]
    },
    {
      "cell_type": "code",
      "source": [
        "# creates string with 1 blank at the center after 4 a’s.\n",
        "format(' ','a^10')"
      ],
      "metadata": {
        "colab": {
          "base_uri": "https://localhost:8080/",
          "height": 36
        },
        "id": "a8GDTqq91-WB",
        "outputId": "f0cd1833-2342-4915-cd3c-daa9b4dea4d1"
      },
      "execution_count": null,
      "outputs": [
        {
          "output_type": "execute_result",
          "data": {
            "text/plain": [
              "'aaaa aaaaa'"
            ],
            "application/vnd.google.colaboratory.intrinsic+json": {
              "type": "string"
            }
          },
          "metadata": {},
          "execution_count": 70
        }
      ]
    },
    {
      "cell_type": "code",
      "source": [
        "# formal function can be used along with print function as given below:\n",
        "print('The result is',format(a,'>10'))"
      ],
      "metadata": {
        "colab": {
          "base_uri": "https://localhost:8080/"
        },
        "id": "XlglRe0bCNeC",
        "outputId": "6b7f5f14-9e8d-4155-e02b-703171ceb403"
      },
      "execution_count": null,
      "outputs": [
        {
          "output_type": "stream",
          "name": "stdout",
          "text": [
            "The result is          5\n"
          ]
        }
      ]
    },
    {
      "cell_type": "markdown",
      "source": [
        "# **Program statement line joining**\n",
        "Statements can be joined to form a proper python statement using the following two ways:\n",
        "1. **Implicit Line Joining**: It uses Matching parenthesis, [] ,{} to join logical program line. \n",
        "\n",
        "Matching quotes must be on the same line.\n",
        "\n",
        "Eg. print(‘Name’, Employee_name,\n",
        "       ‘Age’, employee_age)\n",
        "\n",
        "2. **Explicit Line Joining**: It uses backslash (\\\\) to join the lines.\n",
        "\n",
        "Eg. print(a+b +\\\n",
        "      c*d)\n",
        "\n",
        "\n"
      ],
      "metadata": {
        "id": "ve1bp3TrMmok"
      }
    },
    {
      "cell_type": "code",
      "source": [
        "# Implicit Line Joining\n",
        "print('a is ', a,\n",
        "       'b is', b)"
      ],
      "metadata": {
        "colab": {
          "base_uri": "https://localhost:8080/",
          "height": 201
        },
        "id": "OCqlu9_eNiGd",
        "outputId": "0b745a50-6920-4987-9ca2-83612a43c8a2"
      },
      "execution_count": null,
      "outputs": [
        {
          "output_type": "error",
          "ename": "NameError",
          "evalue": "ignored",
          "traceback": [
            "\u001b[0;31m---------------------------------------------------------------------------\u001b[0m",
            "\u001b[0;31mNameError\u001b[0m                                 Traceback (most recent call last)",
            "\u001b[0;32m<ipython-input-1-455c570fc9c9>\u001b[0m in \u001b[0;36m<module>\u001b[0;34m()\u001b[0m\n\u001b[1;32m      1\u001b[0m \u001b[0;31m# Implicit Line Joining\u001b[0m\u001b[0;34m\u001b[0m\u001b[0;34m\u001b[0m\u001b[0;34m\u001b[0m\u001b[0m\n\u001b[0;32m----> 2\u001b[0;31m print('a is ', a,\n\u001b[0m\u001b[1;32m      3\u001b[0m        'b is', b)\n",
            "\u001b[0;31mNameError\u001b[0m: name 'a' is not defined"
          ]
        }
      ]
    },
    {
      "cell_type": "code",
      "source": [
        "# Produces error as 5 is on next line\n",
        "(2+3) +\n",
        "5"
      ],
      "metadata": {
        "id": "Af2oIyO9N0e0"
      },
      "execution_count": null,
      "outputs": []
    },
    {
      "cell_type": "code",
      "source": [
        "# Explicit Line Joining with backslash\n",
        "(2+3) +\\\n",
        "5"
      ],
      "metadata": {
        "id": "jCRjmg81PBi9"
      },
      "execution_count": null,
      "outputs": []
    }
  ]
}